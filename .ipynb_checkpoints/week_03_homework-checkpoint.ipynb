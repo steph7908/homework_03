{
 "cells": [
  {
   "cell_type": "markdown",
   "metadata": {},
   "source": [
    "### Homework 3 Numpy Arrays\n",
    "\n",
    "1. Open `cars.csv` in jupyter and look at the data. (Double click `cars.csv` to open in a new tab).\n",
    "2. We are converting each **column** into an numpy array.\n",
    "3. Notice we have text, integer and float data. \n",
    "4. Take care not to overwrite your starter code."
   ]
  },
  {
   "cell_type": "code",
   "execution_count": 1,
   "metadata": {},
   "outputs": [],
   "source": [
    "#Starter code. Do NOT modify this cell\n",
    "import pandas as pd\n",
    "import numpy as np\n",
    "\n",
    "# Read in dataset\n",
    "df = pd.read_csv('cars.csv',delimiter=';')\n",
    "\n",
    "# Convert each column to an np.array\n",
    "car = df.Car.to_numpy()\n",
    "mpg = df.MPG.to_numpy()\n",
    "cylinders = df.Cylinders.to_numpy()\n",
    "displacement = df.Displacement.to_numpy()\n",
    "horsepower = df.Horsepower.to_numpy()\n",
    "weight = df.Weight.to_numpy()\n",
    "acceleration = df.Acceleration.to_numpy()\n",
    "model = df.Model.to_numpy()\n",
    "origin = df.Origin.to_numpy()\n",
    "\n",
    "# create an array of headers\n",
    "headers = np.array(['Car', 'MPG', 'Cylinders', 'Displacement', 'Horsepower', 'Weight','Acceleration', 'Model', 'Origin'])\n"
   ]
  },
  {
   "cell_type": "markdown",
   "metadata": {},
   "source": [
    "1. How can you get help on `np.array`?\n",
    "\n",
    "Call `dir()` on `np.array`. \n",
    "\n",
    "Call `dir()` on `car`.\n",
    "\n",
    "Note the difference. `car` has methods and attributes we can use."
   ]
  },
  {
   "cell_type": "code",
   "execution_count": 5,
   "metadata": {},
   "outputs": [
    {
     "data": {
      "text/plain": [
       "['__call__',\n",
       " '__class__',\n",
       " '__delattr__',\n",
       " '__dir__',\n",
       " '__doc__',\n",
       " '__eq__',\n",
       " '__format__',\n",
       " '__ge__',\n",
       " '__getattribute__',\n",
       " '__gt__',\n",
       " '__hash__',\n",
       " '__init__',\n",
       " '__init_subclass__',\n",
       " '__le__',\n",
       " '__lt__',\n",
       " '__module__',\n",
       " '__name__',\n",
       " '__ne__',\n",
       " '__new__',\n",
       " '__qualname__',\n",
       " '__reduce__',\n",
       " '__reduce_ex__',\n",
       " '__repr__',\n",
       " '__self__',\n",
       " '__setattr__',\n",
       " '__sizeof__',\n",
       " '__str__',\n",
       " '__subclasshook__',\n",
       " '__text_signature__']"
      ]
     },
     "execution_count": 5,
     "metadata": {},
     "output_type": "execute_result"
    }
   ],
   "source": [
    "dir(np.array)"
   ]
  },
  {
   "cell_type": "code",
   "execution_count": 30,
   "metadata": {},
   "outputs": [
    {
     "data": {
      "text/plain": [
       "['T',\n",
       " '__abs__',\n",
       " '__add__',\n",
       " '__and__',\n",
       " '__array__',\n",
       " '__array_finalize__',\n",
       " '__array_function__',\n",
       " '__array_interface__',\n",
       " '__array_prepare__',\n",
       " '__array_priority__',\n",
       " '__array_struct__',\n",
       " '__array_ufunc__',\n",
       " '__array_wrap__',\n",
       " '__bool__',\n",
       " '__class__',\n",
       " '__complex__',\n",
       " '__contains__',\n",
       " '__copy__',\n",
       " '__deepcopy__',\n",
       " '__delattr__',\n",
       " '__delitem__',\n",
       " '__dir__',\n",
       " '__divmod__',\n",
       " '__doc__',\n",
       " '__eq__',\n",
       " '__float__',\n",
       " '__floordiv__',\n",
       " '__format__',\n",
       " '__ge__',\n",
       " '__getattribute__',\n",
       " '__getitem__',\n",
       " '__gt__',\n",
       " '__hash__',\n",
       " '__iadd__',\n",
       " '__iand__',\n",
       " '__ifloordiv__',\n",
       " '__ilshift__',\n",
       " '__imatmul__',\n",
       " '__imod__',\n",
       " '__imul__',\n",
       " '__index__',\n",
       " '__init__',\n",
       " '__init_subclass__',\n",
       " '__int__',\n",
       " '__invert__',\n",
       " '__ior__',\n",
       " '__ipow__',\n",
       " '__irshift__',\n",
       " '__isub__',\n",
       " '__iter__',\n",
       " '__itruediv__',\n",
       " '__ixor__',\n",
       " '__le__',\n",
       " '__len__',\n",
       " '__lshift__',\n",
       " '__lt__',\n",
       " '__matmul__',\n",
       " '__mod__',\n",
       " '__mul__',\n",
       " '__ne__',\n",
       " '__neg__',\n",
       " '__new__',\n",
       " '__or__',\n",
       " '__pos__',\n",
       " '__pow__',\n",
       " '__radd__',\n",
       " '__rand__',\n",
       " '__rdivmod__',\n",
       " '__reduce__',\n",
       " '__reduce_ex__',\n",
       " '__repr__',\n",
       " '__rfloordiv__',\n",
       " '__rlshift__',\n",
       " '__rmatmul__',\n",
       " '__rmod__',\n",
       " '__rmul__',\n",
       " '__ror__',\n",
       " '__rpow__',\n",
       " '__rrshift__',\n",
       " '__rshift__',\n",
       " '__rsub__',\n",
       " '__rtruediv__',\n",
       " '__rxor__',\n",
       " '__setattr__',\n",
       " '__setitem__',\n",
       " '__setstate__',\n",
       " '__sizeof__',\n",
       " '__str__',\n",
       " '__sub__',\n",
       " '__subclasshook__',\n",
       " '__truediv__',\n",
       " '__xor__',\n",
       " 'all',\n",
       " 'any',\n",
       " 'argmax',\n",
       " 'argmin',\n",
       " 'argpartition',\n",
       " 'argsort',\n",
       " 'astype',\n",
       " 'base',\n",
       " 'byteswap',\n",
       " 'choose',\n",
       " 'clip',\n",
       " 'compress',\n",
       " 'conj',\n",
       " 'conjugate',\n",
       " 'copy',\n",
       " 'ctypes',\n",
       " 'cumprod',\n",
       " 'cumsum',\n",
       " 'data',\n",
       " 'diagonal',\n",
       " 'dot',\n",
       " 'dtype',\n",
       " 'dump',\n",
       " 'dumps',\n",
       " 'fill',\n",
       " 'flags',\n",
       " 'flat',\n",
       " 'flatten',\n",
       " 'getfield',\n",
       " 'imag',\n",
       " 'item',\n",
       " 'itemset',\n",
       " 'itemsize',\n",
       " 'max',\n",
       " 'mean',\n",
       " 'min',\n",
       " 'nbytes',\n",
       " 'ndim',\n",
       " 'newbyteorder',\n",
       " 'nonzero',\n",
       " 'partition',\n",
       " 'prod',\n",
       " 'ptp',\n",
       " 'put',\n",
       " 'ravel',\n",
       " 'real',\n",
       " 'repeat',\n",
       " 'reshape',\n",
       " 'resize',\n",
       " 'round',\n",
       " 'searchsorted',\n",
       " 'setfield',\n",
       " 'setflags',\n",
       " 'shape',\n",
       " 'size',\n",
       " 'sort',\n",
       " 'squeeze',\n",
       " 'std',\n",
       " 'strides',\n",
       " 'sum',\n",
       " 'swapaxes',\n",
       " 'take',\n",
       " 'tobytes',\n",
       " 'tofile',\n",
       " 'tolist',\n",
       " 'tostring',\n",
       " 'trace',\n",
       " 'transpose',\n",
       " 'var',\n",
       " 'view']"
      ]
     },
     "execution_count": 30,
     "metadata": {},
     "output_type": "execute_result"
    }
   ],
   "source": [
    "dir(car)"
   ]
  },
  {
   "cell_type": "markdown",
   "metadata": {},
   "source": [
    "2. What are the numpy datatypes for the `car`,`mpg`, `horsepower` and `origin` arrays? (Hint: Not `type(car)` and use `print()` to print the numpy type.)"
   ]
  },
  {
   "cell_type": "code",
   "execution_count": 29,
   "metadata": {},
   "outputs": [
    {
     "name": "stdout",
     "output_type": "stream",
     "text": [
      "object\n",
      "float64\n",
      "float64\n",
      "object\n"
     ]
    }
   ],
   "source": [
    "print(car.dtype)\n",
    "print(mpg.dtype)\n",
    "print(horsepower.dtype)\n",
    "print(origin.dtype)"
   ]
  },
  {
   "cell_type": "markdown",
   "metadata": {},
   "source": [
    "3. `numpy` is often imported as `np`. What is this action called? Why might you do this? "
   ]
  },
  {
   "cell_type": "code",
   "execution_count": 24,
   "metadata": {},
   "outputs": [
    {
     "data": {
      "text/plain": [
       "1"
      ]
     },
     "execution_count": 24,
     "metadata": {},
     "output_type": "execute_result"
    }
   ],
   "source": [
    "#This is importing a module and creating an alias for the NumPy package so it can be referred to as np instead of numpy"
   ]
  },
  {
   "cell_type": "markdown",
   "metadata": {},
   "source": [
    "4. Each of the arrays (cars, mpg, cylinders, etc..) has how many dimensions? Show how to find this using code. "
   ]
  },
  {
   "cell_type": "code",
   "execution_count": 19,
   "metadata": {},
   "outputs": [
    {
     "name": "stdout",
     "output_type": "stream",
     "text": [
      "(406,)\n",
      "(406,)\n",
      "(406,)\n"
     ]
    }
   ],
   "source": [
    "print(car.shape)\n",
    "print(mpg.shape)\n",
    "print(cylinders.shape)"
   ]
  },
  {
   "cell_type": "markdown",
   "metadata": {},
   "source": [
    "5. Show how to:\n",
    "\n",
    "- multiply the `mpg` array by 12.\n",
    "- divide the `mpg` array by 3.\n",
    "- raise the `mpg` array to the power of 4.\n",
    "- take the square root of the `mpg` array."
   ]
  },
  {
   "cell_type": "code",
   "execution_count": 32,
   "metadata": {},
   "outputs": [
    {
     "name": "stdout",
     "output_type": "stream",
     "text": [
      "[18.  15.  18.  16.  17.  15.  14.  14.  14.  15.   0.   0.   0.   0.\n",
      "  0.  15.  14.   0.  15.  14.  24.  22.  18.  21.  27.  26.  25.  24.\n",
      " 25.  26.  21.  10.  10.  11.   9.  27.  28.  25.  25.   0.  19.  16.\n",
      " 17.  19.  18.  14.  14.  14.  14.  12.  13.  13.  18.  22.  19.  18.\n",
      " 23.  28.  30.  30.  31.  35.  27.  26.  24.  25.  23.  20.  21.  13.\n",
      " 14.  15.  14.  17.  11.  13.  12.  13.  19.  15.  13.  13.  14.  18.\n",
      " 22.  21.  26.  22.  28.  23.  28.  27.  13.  14.  13.  14.  15.  12.\n",
      " 13.  13.  14.  13.  12.  13.  18.  16.  18.  18.  23.  26.  11.  12.\n",
      " 13.  12.  18.  20.  21.  22.  18.  19.  21.  26.  15.  16.  29.  24.\n",
      " 20.  19.  15.  24.  20.  11.  20.  21.  19.  15.  31.  26.  32.  25.\n",
      " 16.  16.  18.  16.  13.  14.  14.  14.  29.  26.  26.  31.  32.  28.\n",
      " 24.  26.  24.  26.  31.  19.  18.  15.  15.  16.  15.  16.  14.  17.\n",
      " 16.  15.  18.  21.  20.  13.  29.  23.  20.  23.  24.  25.  24.  18.\n",
      " 29.  19.  23.  23.  22.  25.  33.  28.  25.  25.  26.  27.  17.5 16.\n",
      " 15.5 14.5 22.  22.  24.  22.5 29.  24.5 29.  33.  20.  18.  18.5 17.5\n",
      " 29.5 32.  28.  26.5 20.  13.  19.  19.  16.5 16.5 13.  13.  13.  31.5\n",
      " 30.  36.  25.5 33.5 17.5 17.  15.5 15.  17.5 20.5 19.  18.5 16.  15.5\n",
      " 15.5 16.  29.  24.5 26.  25.5 30.5 33.5 30.  30.5 22.  21.5 21.5 43.1\n",
      " 36.1 32.8 39.4 36.1 19.9 19.4 20.2 19.2 20.5 20.2 25.1 20.5 19.4 20.6\n",
      " 20.8 18.6 18.1 19.2 17.7 18.1 17.5 30.  27.5 27.2 30.9 21.1 23.2 23.8\n",
      " 23.9 20.3 17.  21.6 16.2 31.5 29.5 21.5 19.8 22.3 20.2 20.6 17.  17.6\n",
      " 16.5 18.2 16.9 15.5 19.2 18.5 31.9 34.1 35.7 27.4 25.4 23.  27.2 23.9\n",
      " 34.2 34.5 31.8 37.3 28.4 28.8 26.8 33.5 41.5 38.1 32.1 37.2 28.  26.4\n",
      " 24.3 19.1 34.3 29.8 31.3 37.  32.2 46.6 27.9 40.8 44.3 43.4 36.4 30.\n",
      " 44.6 40.9 33.8 29.8 32.7 23.7 35.  23.6 32.4 27.2 26.6 25.8 23.5 30.\n",
      " 39.1 39.  35.1 32.3 37.  37.7 34.1 34.7 34.4 29.9 33.  34.5 33.7 32.4\n",
      " 32.9 31.6 28.1  0.  30.7 25.4 24.2 22.4 26.6 20.2 17.6 28.  27.  34.\n",
      " 31.  29.  27.  24.  23.  36.  37.  31.  38.  36.  36.  36.  34.  38.\n",
      " 32.  38.  25.  38.  26.  22.  32.  36.  27.  27.  44.  32.  28.  31. ]\n",
      "[ 6.          5.          6.          5.33333333  5.66666667  5.\n",
      "  4.66666667  4.66666667  4.66666667  5.          0.          0.\n",
      "  0.          0.          0.          5.          4.66666667  0.\n",
      "  5.          4.66666667  8.          7.33333333  6.          7.\n",
      "  9.          8.66666667  8.33333333  8.          8.33333333  8.66666667\n",
      "  7.          3.33333333  3.33333333  3.66666667  3.          9.\n",
      "  9.33333333  8.33333333  8.33333333  0.          6.33333333  5.33333333\n",
      "  5.66666667  6.33333333  6.          4.66666667  4.66666667  4.66666667\n",
      "  4.66666667  4.          4.33333333  4.33333333  6.          7.33333333\n",
      "  6.33333333  6.          7.66666667  9.33333333 10.         10.\n",
      " 10.33333333 11.66666667  9.          8.66666667  8.          8.33333333\n",
      "  7.66666667  6.66666667  7.          4.33333333  4.66666667  5.\n",
      "  4.66666667  5.66666667  3.66666667  4.33333333  4.          4.33333333\n",
      "  6.33333333  5.          4.33333333  4.33333333  4.66666667  6.\n",
      "  7.33333333  7.          8.66666667  7.33333333  9.33333333  7.66666667\n",
      "  9.33333333  9.          4.33333333  4.66666667  4.33333333  4.66666667\n",
      "  5.          4.          4.33333333  4.33333333  4.66666667  4.33333333\n",
      "  4.          4.33333333  6.          5.33333333  6.          6.\n",
      "  7.66666667  8.66666667  3.66666667  4.          4.33333333  4.\n",
      "  6.          6.66666667  7.          7.33333333  6.          6.33333333\n",
      "  7.          8.66666667  5.          5.33333333  9.66666667  8.\n",
      "  6.66666667  6.33333333  5.          8.          6.66666667  3.66666667\n",
      "  6.66666667  7.          6.33333333  5.         10.33333333  8.66666667\n",
      " 10.66666667  8.33333333  5.33333333  5.33333333  6.          5.33333333\n",
      "  4.33333333  4.66666667  4.66666667  4.66666667  9.66666667  8.66666667\n",
      "  8.66666667 10.33333333 10.66666667  9.33333333  8.          8.66666667\n",
      "  8.          8.66666667 10.33333333  6.33333333  6.          5.\n",
      "  5.          5.33333333  5.          5.33333333  4.66666667  5.66666667\n",
      "  5.33333333  5.          6.          7.          6.66666667  4.33333333\n",
      "  9.66666667  7.66666667  6.66666667  7.66666667  8.          8.33333333\n",
      "  8.          6.          9.66666667  6.33333333  7.66666667  7.66666667\n",
      "  7.33333333  8.33333333 11.          9.33333333  8.33333333  8.33333333\n",
      "  8.66666667  9.          5.83333333  5.33333333  5.16666667  4.83333333\n",
      "  7.33333333  7.33333333  8.          7.5         9.66666667  8.16666667\n",
      "  9.66666667 11.          6.66666667  6.          6.16666667  5.83333333\n",
      "  9.83333333 10.66666667  9.33333333  8.83333333  6.66666667  4.33333333\n",
      "  6.33333333  6.33333333  5.5         5.5         4.33333333  4.33333333\n",
      "  4.33333333 10.5        10.         12.          8.5        11.16666667\n",
      "  5.83333333  5.66666667  5.16666667  5.          5.83333333  6.83333333\n",
      "  6.33333333  6.16666667  5.33333333  5.16666667  5.16666667  5.33333333\n",
      "  9.66666667  8.16666667  8.66666667  8.5        10.16666667 11.16666667\n",
      " 10.         10.16666667  7.33333333  7.16666667  7.16666667 14.36666667\n",
      " 12.03333333 10.93333333 13.13333333 12.03333333  6.63333333  6.46666667\n",
      "  6.73333333  6.4         6.83333333  6.73333333  8.36666667  6.83333333\n",
      "  6.46666667  6.86666667  6.93333333  6.2         6.03333333  6.4\n",
      "  5.9         6.03333333  5.83333333 10.          9.16666667  9.06666667\n",
      " 10.3         7.03333333  7.73333333  7.93333333  7.96666667  6.76666667\n",
      "  5.66666667  7.2         5.4        10.5         9.83333333  7.16666667\n",
      "  6.6         7.43333333  6.73333333  6.86666667  5.66666667  5.86666667\n",
      "  5.5         6.06666667  5.63333333  5.16666667  6.4         6.16666667\n",
      " 10.63333333 11.36666667 11.9         9.13333333  8.46666667  7.66666667\n",
      "  9.06666667  7.96666667 11.4        11.5        10.6        12.43333333\n",
      "  9.46666667  9.6         8.93333333 11.16666667 13.83333333 12.7\n",
      " 10.7        12.4         9.33333333  8.8         8.1         6.36666667\n",
      " 11.43333333  9.93333333 10.43333333 12.33333333 10.73333333 15.53333333\n",
      "  9.3        13.6        14.76666667 14.46666667 12.13333333 10.\n",
      " 14.86666667 13.63333333 11.26666667  9.93333333 10.9         7.9\n",
      " 11.66666667  7.86666667 10.8         9.06666667  8.86666667  8.6\n",
      "  7.83333333 10.         13.03333333 13.         11.7        10.76666667\n",
      " 12.33333333 12.56666667 11.36666667 11.56666667 11.46666667  9.96666667\n",
      " 11.         11.5        11.23333333 10.8        10.96666667 10.53333333\n",
      "  9.36666667  0.         10.23333333  8.46666667  8.06666667  7.46666667\n",
      "  8.86666667  6.73333333  5.86666667  9.33333333  9.         11.33333333\n",
      " 10.33333333  9.66666667  9.          8.          7.66666667 12.\n",
      " 12.33333333 10.33333333 12.66666667 12.         12.         12.\n",
      " 11.33333333 12.66666667 10.66666667 12.66666667  8.33333333 12.66666667\n",
      "  8.66666667  7.33333333 10.66666667 12.          9.          9.\n",
      " 14.66666667 10.66666667  9.33333333 10.33333333]\n"
     ]
    },
    {
     "data": {
      "text/plain": [
       "array([ 6.        ,  5.        ,  6.        ,  5.33333333,  5.66666667,\n",
       "        5.        ,  4.66666667,  4.66666667,  4.66666667,  5.        ,\n",
       "        0.        ,  0.        ,  0.        ,  0.        ,  0.        ,\n",
       "        5.        ,  4.66666667,  0.        ,  5.        ,  4.66666667,\n",
       "        8.        ,  7.33333333,  6.        ,  7.        ,  9.        ,\n",
       "        8.66666667,  8.33333333,  8.        ,  8.33333333,  8.66666667,\n",
       "        7.        ,  3.33333333,  3.33333333,  3.66666667,  3.        ,\n",
       "        9.        ,  9.33333333,  8.33333333,  8.33333333,  0.        ,\n",
       "        6.33333333,  5.33333333,  5.66666667,  6.33333333,  6.        ,\n",
       "        4.66666667,  4.66666667,  4.66666667,  4.66666667,  4.        ,\n",
       "        4.33333333,  4.33333333,  6.        ,  7.33333333,  6.33333333,\n",
       "        6.        ,  7.66666667,  9.33333333, 10.        , 10.        ,\n",
       "       10.33333333, 11.66666667,  9.        ,  8.66666667,  8.        ,\n",
       "        8.33333333,  7.66666667,  6.66666667,  7.        ,  4.33333333,\n",
       "        4.66666667,  5.        ,  4.66666667,  5.66666667,  3.66666667,\n",
       "        4.33333333,  4.        ,  4.33333333,  6.33333333,  5.        ,\n",
       "        4.33333333,  4.33333333,  4.66666667,  6.        ,  7.33333333,\n",
       "        7.        ,  8.66666667,  7.33333333,  9.33333333,  7.66666667,\n",
       "        9.33333333,  9.        ,  4.33333333,  4.66666667,  4.33333333,\n",
       "        4.66666667,  5.        ,  4.        ,  4.33333333,  4.33333333,\n",
       "        4.66666667,  4.33333333,  4.        ,  4.33333333,  6.        ,\n",
       "        5.33333333,  6.        ,  6.        ,  7.66666667,  8.66666667,\n",
       "        3.66666667,  4.        ,  4.33333333,  4.        ,  6.        ,\n",
       "        6.66666667,  7.        ,  7.33333333,  6.        ,  6.33333333,\n",
       "        7.        ,  8.66666667,  5.        ,  5.33333333,  9.66666667,\n",
       "        8.        ,  6.66666667,  6.33333333,  5.        ,  8.        ,\n",
       "        6.66666667,  3.66666667,  6.66666667,  7.        ,  6.33333333,\n",
       "        5.        , 10.33333333,  8.66666667, 10.66666667,  8.33333333,\n",
       "        5.33333333,  5.33333333,  6.        ,  5.33333333,  4.33333333,\n",
       "        4.66666667,  4.66666667,  4.66666667,  9.66666667,  8.66666667,\n",
       "        8.66666667, 10.33333333, 10.66666667,  9.33333333,  8.        ,\n",
       "        8.66666667,  8.        ,  8.66666667, 10.33333333,  6.33333333,\n",
       "        6.        ,  5.        ,  5.        ,  5.33333333,  5.        ,\n",
       "        5.33333333,  4.66666667,  5.66666667,  5.33333333,  5.        ,\n",
       "        6.        ,  7.        ,  6.66666667,  4.33333333,  9.66666667,\n",
       "        7.66666667,  6.66666667,  7.66666667,  8.        ,  8.33333333,\n",
       "        8.        ,  6.        ,  9.66666667,  6.33333333,  7.66666667,\n",
       "        7.66666667,  7.33333333,  8.33333333, 11.        ,  9.33333333,\n",
       "        8.33333333,  8.33333333,  8.66666667,  9.        ,  5.83333333,\n",
       "        5.33333333,  5.16666667,  4.83333333,  7.33333333,  7.33333333,\n",
       "        8.        ,  7.5       ,  9.66666667,  8.16666667,  9.66666667,\n",
       "       11.        ,  6.66666667,  6.        ,  6.16666667,  5.83333333,\n",
       "        9.83333333, 10.66666667,  9.33333333,  8.83333333,  6.66666667,\n",
       "        4.33333333,  6.33333333,  6.33333333,  5.5       ,  5.5       ,\n",
       "        4.33333333,  4.33333333,  4.33333333, 10.5       , 10.        ,\n",
       "       12.        ,  8.5       , 11.16666667,  5.83333333,  5.66666667,\n",
       "        5.16666667,  5.        ,  5.83333333,  6.83333333,  6.33333333,\n",
       "        6.16666667,  5.33333333,  5.16666667,  5.16666667,  5.33333333,\n",
       "        9.66666667,  8.16666667,  8.66666667,  8.5       , 10.16666667,\n",
       "       11.16666667, 10.        , 10.16666667,  7.33333333,  7.16666667,\n",
       "        7.16666667, 14.36666667, 12.03333333, 10.93333333, 13.13333333,\n",
       "       12.03333333,  6.63333333,  6.46666667,  6.73333333,  6.4       ,\n",
       "        6.83333333,  6.73333333,  8.36666667,  6.83333333,  6.46666667,\n",
       "        6.86666667,  6.93333333,  6.2       ,  6.03333333,  6.4       ,\n",
       "        5.9       ,  6.03333333,  5.83333333, 10.        ,  9.16666667,\n",
       "        9.06666667, 10.3       ,  7.03333333,  7.73333333,  7.93333333,\n",
       "        7.96666667,  6.76666667,  5.66666667,  7.2       ,  5.4       ,\n",
       "       10.5       ,  9.83333333,  7.16666667,  6.6       ,  7.43333333,\n",
       "        6.73333333,  6.86666667,  5.66666667,  5.86666667,  5.5       ,\n",
       "        6.06666667,  5.63333333,  5.16666667,  6.4       ,  6.16666667,\n",
       "       10.63333333, 11.36666667, 11.9       ,  9.13333333,  8.46666667,\n",
       "        7.66666667,  9.06666667,  7.96666667, 11.4       , 11.5       ,\n",
       "       10.6       , 12.43333333,  9.46666667,  9.6       ,  8.93333333,\n",
       "       11.16666667, 13.83333333, 12.7       , 10.7       , 12.4       ,\n",
       "        9.33333333,  8.8       ,  8.1       ,  6.36666667, 11.43333333,\n",
       "        9.93333333, 10.43333333, 12.33333333, 10.73333333, 15.53333333,\n",
       "        9.3       , 13.6       , 14.76666667, 14.46666667, 12.13333333,\n",
       "       10.        , 14.86666667, 13.63333333, 11.26666667,  9.93333333,\n",
       "       10.9       ,  7.9       , 11.66666667,  7.86666667, 10.8       ,\n",
       "        9.06666667,  8.86666667,  8.6       ,  7.83333333, 10.        ,\n",
       "       13.03333333, 13.        , 11.7       , 10.76666667, 12.33333333,\n",
       "       12.56666667, 11.36666667, 11.56666667, 11.46666667,  9.96666667,\n",
       "       11.        , 11.5       , 11.23333333, 10.8       , 10.96666667,\n",
       "       10.53333333,  9.36666667,  0.        , 10.23333333,  8.46666667,\n",
       "        8.06666667,  7.46666667,  8.86666667,  6.73333333,  5.86666667,\n",
       "        9.33333333,  9.        , 11.33333333, 10.33333333,  9.66666667,\n",
       "        9.        ,  8.        ,  7.66666667, 12.        , 12.33333333,\n",
       "       10.33333333, 12.66666667, 12.        , 12.        , 12.        ,\n",
       "       11.33333333, 12.66666667, 10.66666667, 12.66666667,  8.33333333,\n",
       "       12.66666667,  8.66666667,  7.33333333, 10.66666667, 12.        ,\n",
       "        9.        ,  9.        , 14.66666667, 10.66666667,  9.33333333,\n",
       "       10.33333333])"
      ]
     },
     "execution_count": 32,
     "metadata": {},
     "output_type": "execute_result"
    }
   ],
   "source": [
    "# print(mpg)\n",
    "# mpg * 12 OR np.multiply(mpg,12)\n",
    "# mpg / 3 OR np.divide(mpg,3)\n",
    "# mpg ** 4 \n",
    "# np.sqrt(mpg)"
   ]
  },
  {
   "cell_type": "markdown",
   "metadata": {},
   "source": [
    "6. What is the ___ of `horsepower`?\n",
    "- sum\n",
    "- min\n",
    "- max\n",
    "- median\n",
    "- Optional: mode (May need to google help)"
   ]
  },
  {
   "cell_type": "code",
   "execution_count": 44,
   "metadata": {},
   "outputs": [
    {
     "ename": "AttributeError",
     "evalue": "module 'numpy' has no attribute 'mode'",
     "output_type": "error",
     "traceback": [
      "\u001b[1;31m---------------------------------------------------------------------------\u001b[0m",
      "\u001b[1;31mAttributeError\u001b[0m                            Traceback (most recent call last)",
      "\u001b[1;32m<ipython-input-44-ca591e4c34d1>\u001b[0m in \u001b[0;36m<module>\u001b[1;34m\u001b[0m\n\u001b[0;32m      3\u001b[0m \u001b[1;31m# horsepower.max()\u001b[0m\u001b[1;33m\u001b[0m\u001b[1;33m\u001b[0m\u001b[1;33m\u001b[0m\u001b[0m\n\u001b[0;32m      4\u001b[0m \u001b[1;31m# np.median(horsepower)\u001b[0m\u001b[1;33m\u001b[0m\u001b[1;33m\u001b[0m\u001b[1;33m\u001b[0m\u001b[0m\n\u001b[1;32m----> 5\u001b[1;33m \u001b[0mnp\u001b[0m\u001b[1;33m.\u001b[0m\u001b[0mmode\u001b[0m\u001b[1;33m(\u001b[0m\u001b[0mhorsepower\u001b[0m\u001b[1;33m)\u001b[0m\u001b[1;33m\u001b[0m\u001b[1;33m\u001b[0m\u001b[0m\n\u001b[0m",
      "\u001b[1;32mc:\\users\\mreic_000\\appdata\\local\\programs\\python\\python37\\lib\\site-packages\\numpy\\__init__.py\u001b[0m in \u001b[0;36m__getattr__\u001b[1;34m(attr)\u001b[0m\n\u001b[0;32m    213\u001b[0m             \u001b[1;32melse\u001b[0m\u001b[1;33m:\u001b[0m\u001b[1;33m\u001b[0m\u001b[1;33m\u001b[0m\u001b[0m\n\u001b[0;32m    214\u001b[0m                 raise AttributeError(\"module {!r} has no attribute \"\n\u001b[1;32m--> 215\u001b[1;33m                                      \"{!r}\".format(__name__, attr))\n\u001b[0m\u001b[0;32m    216\u001b[0m \u001b[1;33m\u001b[0m\u001b[0m\n\u001b[0;32m    217\u001b[0m         \u001b[1;32mdef\u001b[0m \u001b[0m__dir__\u001b[0m\u001b[1;33m(\u001b[0m\u001b[1;33m)\u001b[0m\u001b[1;33m:\u001b[0m\u001b[1;33m\u001b[0m\u001b[1;33m\u001b[0m\u001b[0m\n",
      "\u001b[1;31mAttributeError\u001b[0m: module 'numpy' has no attribute 'mode'"
     ]
    }
   ],
   "source": [
    "# horsepower.sum()\n",
    "# horsepower.min()\n",
    "# horsepower.max()\n",
    "# np.median(horsepower)\n",
    "np.mode(horsepower)"
   ]
  },
  {
   "cell_type": "markdown",
   "metadata": {},
   "source": [
    "7. Select a subset of `acceleration`. \n",
    "\n",
    "- Select only the first 5 elements.\n",
    "- Select every other element (new selection)."
   ]
  },
  {
   "cell_type": "code",
   "execution_count": null,
   "metadata": {},
   "outputs": [],
   "source": []
  },
  {
   "cell_type": "markdown",
   "metadata": {},
   "source": [
    "8. Show how to select the number `99` in the array below. "
   ]
  },
  {
   "cell_type": "code",
   "execution_count": null,
   "metadata": {},
   "outputs": [],
   "source": [
    "select_99 = np.array([[1,2,3],\n",
    "                      [4,5,99]])"
   ]
  },
  {
   "cell_type": "code",
   "execution_count": null,
   "metadata": {},
   "outputs": [],
   "source": []
  },
  {
   "cell_type": "markdown",
   "metadata": {},
   "source": [
    "9. Select the last element in each subarray (do this with one operation.)"
   ]
  },
  {
   "cell_type": "code",
   "execution_count": null,
   "metadata": {},
   "outputs": [],
   "source": [
    "select_more = np.array([[1,2,3],\n",
    "                      [4,5,6],\n",
    "                      [7,8,9]])\n",
    "# returns array([3, 6, 9])"
   ]
  },
  {
   "cell_type": "code",
   "execution_count": null,
   "metadata": {},
   "outputs": [],
   "source": []
  },
  {
   "cell_type": "markdown",
   "metadata": {},
   "source": [
    "10. Use the built-in `np.lookfor()` function to search for `'log'`.\n",
    "\n",
    "Use the function you find and apply it to `mpg`."
   ]
  },
  {
   "cell_type": "code",
   "execution_count": null,
   "metadata": {},
   "outputs": [],
   "source": []
  },
  {
   "cell_type": "markdown",
   "metadata": {},
   "source": [
    "11. You your google skills to find the unique items in `origin`. (This may not have been covered in the readings.)"
   ]
  },
  {
   "cell_type": "code",
   "execution_count": null,
   "metadata": {},
   "outputs": [],
   "source": []
  },
  {
   "cell_type": "markdown",
   "metadata": {},
   "source": [
    "12. \n",
    "- Create a 2D array and print its shape as well as ndim. (Any shape is fine)\n",
    "\n",
    "- Create a 3D array and print its shape as well as ndim.\n",
    "\n",
    "- Create a 4D array and print its shape as well as ndim. *It's hard to visualize 4-Dimensions but numpy can do it with ease!*"
   ]
  },
  {
   "cell_type": "code",
   "execution_count": null,
   "metadata": {},
   "outputs": [],
   "source": []
  },
  {
   "cell_type": "markdown",
   "metadata": {},
   "source": [
    "13.Use boolean indexing to create an array of `True/False` using `origin` and the value 'US'."
   ]
  },
  {
   "cell_type": "code",
   "execution_count": null,
   "metadata": {},
   "outputs": [],
   "source": []
  },
  {
   "cell_type": "markdown",
   "metadata": {},
   "source": [
    "14. Apply your index (from above) to the `car` array. You should now only see cars that are of US origin. "
   ]
  },
  {
   "cell_type": "code",
   "execution_count": null,
   "metadata": {},
   "outputs": [],
   "source": []
  },
  {
   "cell_type": "markdown",
   "metadata": {},
   "source": [
    "**The remaining questions are OPTIONAL**: The readings did not address all of these so you may have to use some \"Google-Fu\". "
   ]
  },
  {
   "cell_type": "markdown",
   "metadata": {},
   "source": [
    "1.What is an identity matrix? \n",
    "Create an identiy matrix of size 5 using an np method. "
   ]
  },
  {
   "cell_type": "code",
   "execution_count": null,
   "metadata": {},
   "outputs": [],
   "source": []
  },
  {
   "cell_type": "markdown",
   "metadata": {},
   "source": [
    "2. Transpose the following array. "
   ]
  },
  {
   "cell_type": "code",
   "execution_count": null,
   "metadata": {},
   "outputs": [],
   "source": [
    "transpose_me = np.array([[1,2,3],\n",
    "                      [4,5,6],\n",
    "                      [7,8,9]])\n"
   ]
  },
  {
   "cell_type": "code",
   "execution_count": null,
   "metadata": {},
   "outputs": [],
   "source": []
  },
  {
   "cell_type": "markdown",
   "metadata": {},
   "source": [
    "3. Why does this multiplication operation fail? "
   ]
  },
  {
   "cell_type": "code",
   "execution_count": null,
   "metadata": {},
   "outputs": [],
   "source": [
    "arr1 = np.array([[1,2,3],\n",
    "                      [4,5,6],\n",
    "                      [7,8,9]])\n",
    "arr2 = np.array([[1,2,3],\n",
    "                      [4,5,6]])\n",
    "\n",
    "arr1 * arr2"
   ]
  },
  {
   "cell_type": "code",
   "execution_count": null,
   "metadata": {},
   "outputs": [],
   "source": []
  },
  {
   "cell_type": "markdown",
   "metadata": {},
   "source": [
    "Use numpy to answer the following questions. "
   ]
  },
  {
   "cell_type": "markdown",
   "metadata": {},
   "source": [
    "4. What is the average horsepower for `Europe` cars? (Hint: create boolean index of 'US' apply it to horsepower and perform the calculation.)"
   ]
  },
  {
   "cell_type": "code",
   "execution_count": null,
   "metadata": {},
   "outputs": [],
   "source": []
  },
  {
   "cell_type": "markdown",
   "metadata": {},
   "source": [
    "5. On average are Japanse cars more fuel efficient than US cars? "
   ]
  },
  {
   "cell_type": "code",
   "execution_count": null,
   "metadata": {},
   "outputs": [],
   "source": []
  },
  {
   "cell_type": "markdown",
   "metadata": {},
   "source": [
    "6. What is the correlation coefficient of `mpg` and `weight`?"
   ]
  },
  {
   "cell_type": "code",
   "execution_count": null,
   "metadata": {},
   "outputs": [],
   "source": []
  },
  {
   "cell_type": "markdown",
   "metadata": {},
   "source": [
    "7. Why might you prefer an `np.array()` over a Python `list`? And when is a Python `list` preferred? "
   ]
  },
  {
   "cell_type": "code",
   "execution_count": null,
   "metadata": {},
   "outputs": [],
   "source": []
  },
  {
   "cell_type": "code",
   "execution_count": null,
   "metadata": {},
   "outputs": [],
   "source": []
  }
 ],
 "metadata": {
  "kernelspec": {
   "display_name": "Python 3",
   "language": "python",
   "name": "python3"
  },
  "language_info": {
   "codemirror_mode": {
    "name": "ipython",
    "version": 3
   },
   "file_extension": ".py",
   "mimetype": "text/x-python",
   "name": "python",
   "nbconvert_exporter": "python",
   "pygments_lexer": "ipython3",
   "version": "3.7.8"
  }
 },
 "nbformat": 4,
 "nbformat_minor": 4
}
